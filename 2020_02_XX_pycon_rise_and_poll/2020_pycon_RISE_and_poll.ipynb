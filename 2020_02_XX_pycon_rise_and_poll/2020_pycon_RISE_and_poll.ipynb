{
 "cells": [
  {
   "cell_type": "code",
   "execution_count": null,
   "metadata": {
    "slideshow": {
     "slide_type": "skip"
    }
   },
   "outputs": [],
   "source": [
    "# Inline matplotlib"
   ]
  },
  {
   "cell_type": "markdown",
   "metadata": {
    "slideshow": {
     "slide_type": "slide"
    }
   },
   "source": [
    "## Presentaciones y encuestas interactivas con jupyter notebooks y RISE\n",
    "### Sebastian Flores - pycon Colombia 2020\n",
    "#### XX Febrero 2020\n",
    "\n",
    "sebastiandres en twitter y github."
   ]
  },
  {
   "cell_type": "markdown",
   "metadata": {
    "slideshow": {
     "slide_type": "notes"
    }
   },
   "source": [
    "Hola. Mi nombre es Sebastián Flores, y quiero presentarles algunos experimentos que realicé para realizar encuestas en vivo mientras se presenta en jupyter notebook con la extensión RISE.  No es necesario que tomen apuntes, la presentación y todos los enlaces están en mi github: sebastiandres (el repo se llama charlas, es el primero)."
   ]
  },
  {
   "cell_type": "markdown",
   "metadata": {
    "slideshow": {
     "slide_type": "slide"
    }
   },
   "source": [
    "##### Introducción 1/2\n",
    "\n",
    "IMAGENES DE BUSQUEDA...\n",
    "\n",
    "."
   ]
  },
  {
   "cell_type": "markdown",
   "metadata": {
    "slideshow": {
     "slide_type": "notes"
    }
   },
   "source": [
    "La necesidad nació hace algunos meses cuando la noche anterior a realizar una charla a unos estudiantes, quise realizar una encuesta en vivo, pero me di cuenta que no sabía como hacerlo sin salir de RISE y jupyter notebook. Mi talento googleador tampoco me ayudó, así que supongo que si alguien ya lo ha hecho, no lo ha documentado. Así que al menos esto sirve para auto-contestarme. Esto va para ti, Sebastian del lejano pasado."
   ]
  },
  {
   "cell_type": "markdown",
   "metadata": {
    "slideshow": {
     "slide_type": "slide"
    }
   },
   "source": [
    "##### Introducción 2/2\n",
    "\n",
    "* Sobre hacer presentaciones con RISE.\n",
    "* Solución: quick & dirty.\n",
    "* Solución: Quiero los datos\n",
    "* Solución: pasa pa'cá."
   ]
  },
  {
   "cell_type": "markdown",
   "metadata": {
    "slideshow": {
     "slide_type": "notes"
    }
   },
   "source": [
    "La presentación está estructurada de lo más general a lo más específico, y de lo más mainstream a lo más geek/hipster. Así que un poco de paciencia si hay cosas que parecen muy evidentes."
   ]
  },
  {
   "cell_type": "markdown",
   "metadata": {
    "slideshow": {
     "slide_type": "slide"
    }
   },
   "source": [
    "##### Sobre hacer presentaciones con jupyter y RISE 1/n\n",
    "\n",
    "¿Consejos?"
   ]
  },
  {
   "cell_type": "markdown",
   "metadata": {
    "slideshow": {
     "slide_type": "fragment"
    }
   },
   "source": [
    "Ensayar, ensayar, ensayar."
   ]
  },
  {
   "cell_type": "markdown",
   "metadata": {
    "slideshow": {
     "slide_type": "notes"
    }
   },
   "source": [
    "Relato: ¿Cómo hacer una buena presentación? Este es un tema en sí mismo. No soy para nada un experto, pero he aprendido algunas cosas.\n",
    "Relato: Aunque parezca trivial, lo más importante es la práctica. Haber ensayado varias veces la presentación y ser familiar con el contenido es la mejor forma de que el relato sea fluido. Al final, toda habilidad es como un músculo. Cuando lo ejercitas, se vuelve más fuerte y resulta más fácil usarlo. Esta misma presentación ya la he ensayado unas 10 veces. Sí, toma tiempo."
   ]
  },
  {
   "cell_type": "markdown",
   "metadata": {
    "slideshow": {
     "slide_type": "slide"
    }
   },
   "source": [
    "##### Sobre hacer presentaciones con jupyter y RISE 2/n\n",
    "\n",
    "."
   ]
  },
  {
   "cell_type": "markdown",
   "metadata": {
    "slideshow": {
     "slide_type": "notes"
    }
   },
   "source": [
    "Relato: Por supuesto, hay varios libros que se pueden leer al respecto. A mi me gustó este. Confessions of a public Speaker - Scott Berkum. Consejos prácticos y con un tono de humor."
   ]
  },
  {
   "cell_type": "markdown",
   "metadata": {
    "slideshow": {
     "slide_type": "slide"
    }
   },
   "source": [
    "##### Sobre hacer presentaciones con jupyter y RISE 3/n\n",
    "."
   ]
  },
  {
   "cell_type": "markdown",
   "metadata": {
    "slideshow": {
     "slide_type": "notes"
    }
   },
   "source": [
    "Relato: Sobre presentar con RISE, hay buenos artículos dando vuelta. Acá hay algunos enlaces que pueden servirles: 1, 2 y 3."
   ]
  },
  {
   "cell_type": "markdown",
   "metadata": {
    "slideshow": {
     "slide_type": "slide"
    }
   },
   "source": [
    "##### Sobre hacer presentaciones con jupyter y RISE 4/n\n",
    "\n",
    "."
   ]
  },
  {
   "cell_type": "markdown",
   "metadata": {
    "slideshow": {
     "slide_type": "notes"
    }
   },
   "source": [
    "Relato: Pero en resumen, es lo que muestra esta animación (gif). Basta marcar una celda de jupyter notebook con la propiedad “slide”, “sub-slide”, “fragment”, o “” para que esta adquiera la propiedad. Y luego se pone en modo presentación. ¡Voilá!"
   ]
  },
  {
   "cell_type": "markdown",
   "metadata": {
    "slideshow": {
     "slide_type": "slide"
    }
   },
   "source": [
    "##### Sobre hacer presentaciones con jupyter y RISE 5/n\n",
    "\n",
    "."
   ]
  },
  {
   "cell_type": "markdown",
   "metadata": {
    "slideshow": {
     "slide_type": "notes"
    }
   },
   "source": [
    "Relato: ¿Para que sirve cada una? “Slide” es efectivamente una diapositiva normal. \n",
    "“Fragment” permite que la slide se revele poco a poco.\n",
    "“Sub-slide” es una diapositiva “opcional”, solo se muestra si se usa la flecha hacia abajo. A mi me confunde recordar en que orden mostrarlos, así que prefiero tenerlas de respaldo por si necesito mostrar una slide “reservada”.\n",
    "“???” permite que la celda no se muestre."
   ]
  },
  {
   "cell_type": "markdown",
   "metadata": {
    "slideshow": {
     "slide_type": "slide"
    }
   },
   "source": [
    "##### Sobre hacer presentaciones con jupyter y RISE 6/n\n",
    "\n",
    "."
   ]
  },
  {
   "cell_type": "markdown",
   "metadata": {
    "slideshow": {
     "slide_type": "notes"
    }
   },
   "source": [
    "Relato: ¿Qué cosas he aprendido en estos años haciendo presentaciones con RISE? \n",
    "(0) Más que jugar con los fonts, regular con Ctrl+ y Ctr- como se ve en pantalla.\n",
    "(1) No tener temor en pedir ideas a la audiencia sobre que valores probar o alternativas de código a implementar. (2) Usar un teclado y mouse inalámbrico, para clases de computación.\n",
    "(3) Poner soluciones pre-definidas a los problemas, en lugar de escribirlos en directo (por tiempo).\n",
    "(4) Saber que textos mostrar y cuales ocultar.\n",
    "(5) Usar un repo para volver a versiones anteriores.\n",
    "Usar un diagrama de celdas y mostrar lo que hace “con algunas cajitas”."
   ]
  },
  {
   "cell_type": "markdown",
   "metadata": {
    "slideshow": {
     "slide_type": "slide"
    }
   },
   "source": [
    "##### Descripción del Problema 1/n"
   ]
  },
  {
   "cell_type": "markdown",
   "metadata": {
    "slideshow": {
     "slide_type": "fragment"
    }
   },
   "source": [
    "**¿Qué?** Realizar encuesta interactiva sin salir del modo presentación.\n"
   ]
  },
  {
   "cell_type": "markdown",
   "metadata": {
    "slideshow": {
     "slide_type": "fragment"
    }
   },
   "source": [
    "**¿Porqué?** Cachilupi."
   ]
  },
  {
   "cell_type": "markdown",
   "metadata": {
    "slideshow": {
     "slide_type": "notes"
    }
   },
   "source": [
    "Relato: Bueno, llevamos 5 minutos y todavía no hablamos siquiera del problema ¡ni código!. ¿Qué es lo que intentamos resolver? Cuando uno realiza presentación a una audiencia desafiante - estudiantes de primer año de universidad, que no resisten 45 minutos sin mirar su celular - resulta interesante proporcionar un medio para obtener retroalimentación de manera sencilla y directa. Pero ¿Podemos hacer eso en presentaciones con jupyter notebook? "
   ]
  },
  {
   "cell_type": "markdown",
   "metadata": {
    "slideshow": {
     "slide_type": "slide"
    }
   },
   "source": [
    "##### Descripción del Problema 2/n\n",
    "\n",
    "¿Se puede?"
   ]
  },
  {
   "cell_type": "markdown",
   "metadata": {
    "slideshow": {
     "slide_type": "subslide"
    }
   },
   "source": [
    "Si.\n",
    "**¿Cómo?**"
   ]
  },
  {
   "cell_type": "markdown",
   "metadata": {
    "slideshow": {
     "slide_type": "notes"
    }
   },
   "source": [
    "Relato: Pensaba que era algo muy dificil. Pero finalmente encontré varias formas distintas."
   ]
  },
  {
   "cell_type": "markdown",
   "metadata": {
    "slideshow": {
     "slide_type": "slide"
    }
   },
   "source": [
    "##### Descripción del Problema 3/n\n",
    "\n",
    "Nuestro héroe se llama IFrame."
   ]
  },
  {
   "cell_type": "markdown",
   "metadata": {
    "slideshow": {
     "slide_type": "fragment"
    }
   },
   "source": [
    "¿Qué es un iframe?"
   ]
  },
  {
   "cell_type": "code",
   "execution_count": 29,
   "metadata": {},
   "outputs": [
    {
     "data": {
      "text/html": [
       "\n",
       "        <iframe\n",
       "            width=\"1200\"\n",
       "            height=\"600\"\n",
       "            src=\"https://es.wikipedia.org/wiki/Iframe\"\n",
       "            frameborder=\"0\"\n",
       "            allowfullscreen\n",
       "        ></iframe>\n",
       "        "
      ],
      "text/plain": [
       "<IPython.lib.display.IFrame at 0x11ee8c190>"
      ]
     },
     "execution_count": 29,
     "metadata": {},
     "output_type": "execute_result"
    }
   ],
   "source": [
    "from IPython.display import IFrame\n",
    "IFrame(\"https://es.wikipedia.org/wiki/Iframe\", width=1200, height=600)"
   ]
  },
  {
   "cell_type": "markdown",
   "metadata": {
    "slideshow": {
     "slide_type": "notes"
    }
   },
   "source": [
    "Relato: Las funciones HTML y Iframe son nuestras héroes. Todo esfuerzo de lo que haremos recae en sus hombros. Diferencias de html y iframe. DEFINICION DE IFRAME. Mostrar "
   ]
  },
  {
   "cell_type": "markdown",
   "metadata": {
    "slideshow": {
     "slide_type": "slide"
    }
   },
   "source": [
    "##### Descripción del Problema 4/n"
   ]
  },
  {
   "cell_type": "code",
   "execution_count": 33,
   "metadata": {},
   "outputs": [
    {
     "data": {
      "text/html": [
       "\n",
       "        <iframe\n",
       "            width=\"1200\"\n",
       "            height=\"600\"\n",
       "            src=\"https://bit.ly/2roW5El\"\n",
       "            frameborder=\"0\"\n",
       "            allowfullscreen\n",
       "        ></iframe>\n",
       "        "
      ],
      "text/plain": [
       "<IPython.lib.display.IFrame at 0x11ee6dd90>"
      ]
     },
     "execution_count": 33,
     "metadata": {},
     "output_type": "execute_result"
    }
   ],
   "source": [
    "#IFrame(\"https://www.google.com/\", width=1200, height=600)\n",
    "#IFrame(\"https://www.facebook.com/\", width=1200, height=600)\n",
    "IFrame(\"https://bit.ly/2roW5El\", width=1200, height=600)"
   ]
  },
  {
   "cell_type": "markdown",
   "metadata": {
    "slideshow": {
     "slide_type": "notes"
    }
   },
   "source": [
    "Relato: Un aprendizaje interesante que pueden llevarse hoy, es que existen sitios que no permiten ser embebidos en un iframe. Por ejemplo, si tratamos de hacer un iframe de google, nos da el siguiente error. ¿Porqué? Porque XYZ.\n",
    "\n",
    "Sin embargo, podemos usar un acortador de dirección para evitar ese problema. Por ejemplo, el mismo acordador de dirección de google nos permite bypasear su propia seguridad. Hermoso. [REVISAR]\n",
    "\n",
    "Ya no funciona. Hay que probar con otras opciones."
   ]
  },
  {
   "cell_type": "markdown",
   "metadata": {
    "slideshow": {
     "slide_type": "slide"
    }
   },
   "source": [
    "##### Solucion nivel 1\n",
    "\n",
    "**KISS**"
   ]
  },
  {
   "cell_type": "markdown",
   "metadata": {
    "slideshow": {
     "slide_type": "fragment"
    }
   },
   "source": [
    "* Polleverywhere\n",
    "* Mentimeter\n",
    "* Survey\n",
    "* Muchos, muchos otros..."
   ]
  },
  {
   "cell_type": "markdown",
   "metadata": {
    "slideshow": {
     "slide_type": "notes"
    }
   },
   "source": [
    "Relato: Solución nivel 1. Meme de “cerebro”. Hay un principio elemental en programación: KISS. Keep it Simple, Stupid. No hay para que reinventar la rueda cuando podemos aprovechar lo que otras personas ya han hecho.\n",
    "\n",
    "Relato: Hay varias empresas que proporcionan servicios para realizar encuestas en vivo, que funciona a través de páginas web. Algunas de las empresas que pueden revisar para esto son: Mentimeter, Survey, Polleverywhere, por ejemplo. Spoiler Alert: Son todas bastante parecidas."
   ]
  },
  {
   "cell_type": "markdown",
   "metadata": {
    "slideshow": {
     "slide_type": "slide"
    }
   },
   "source": [
    "##### Solución nivel 1: Encuesta"
   ]
  },
  {
   "cell_type": "code",
   "execution_count": 36,
   "metadata": {},
   "outputs": [
    {
     "data": {
      "text/html": [
       "\n",
       "        <iframe\n",
       "            width=\"1200\"\n",
       "            height=\"600\"\n",
       "            src=\"https://pollev.com/sebastianflo711\"\n",
       "            frameborder=\"0\"\n",
       "            allowfullscreen\n",
       "        ></iframe>\n",
       "        "
      ],
      "text/plain": [
       "<IPython.lib.display.IFrame at 0x11ee94390>"
      ]
     },
     "execution_count": 36,
     "metadata": {},
     "output_type": "execute_result"
    }
   ],
   "source": [
    "IFrame(\"https://pollev.com/sebastianflo711\", width=1200, height=600)"
   ]
  },
  {
   "cell_type": "markdown",
   "metadata": {
    "slideshow": {
     "slide_type": "notes"
    }
   },
   "source": [
    "Relato: Hagamos un primer experimento. Yo ya cree una encuesta que deberán responder. ¿Listos? En sus celulares, busquen la página web que se encuentra en pantalla y voten. \n",
    "Mostrar con un iframe y leer."
   ]
  },
  {
   "cell_type": "markdown",
   "metadata": {
    "slideshow": {
     "slide_type": "slide"
    }
   },
   "source": [
    "##### Solución nivel 1: Resultados\n",
    "\n",
    "."
   ]
  },
  {
   "cell_type": "code",
   "execution_count": 35,
   "metadata": {},
   "outputs": [
    {
     "data": {
      "text/html": [
       "\n",
       "        <iframe\n",
       "            width=\"1200\"\n",
       "            height=\"600\"\n",
       "            src=\"https://www.polleverywhere.com/multiple_choice_polls/7Xwy472JbCrk3fITm12XM\"\n",
       "            frameborder=\"0\"\n",
       "            allowfullscreen\n",
       "        ></iframe>\n",
       "        "
      ],
      "text/plain": [
       "<IPython.lib.display.IFrame at 0x11ee94b10>"
      ]
     },
     "execution_count": 35,
     "metadata": {},
     "output_type": "execute_result"
    }
   ],
   "source": [
    "IFrame(\"https://www.polleverywhere.com/multiple_choice_polls/7Xwy472JbCrk3fITm12XM\", width=1200, height=600)"
   ]
  },
  {
   "cell_type": "markdown",
   "metadata": {
    "slideshow": {
     "slide_type": "notes"
    }
   },
   "source": [
    "Relato: Mientras ustedes votan, podemos ya comenzar a ver los resultados. Ejecutar el iframe varias veces."
   ]
  },
  {
   "cell_type": "markdown",
   "metadata": {
    "slideshow": {
     "slide_type": "slide"
    }
   },
   "source": [
    "##### Solución nivel 1: ¿Qué debe cumplir un sitio de encuestas interactivas?\n",
    "\n",
    "* Encuesta acccesible por url pública, incrustable por iframe.\n",
    "* Grafico dinámico accesible por url pública, incrustable por iframe."
   ]
  },
  {
   "cell_type": "markdown",
   "metadata": {
    "slideshow": {
     "slide_type": "notes"
    }
   },
   "source": [
    "Relato: ¿Qué necesitamos de esta encuesta? Que tenga las siguientes características:\n",
    "Encuesta accesible con una url pública, para poder compartir el enlace durante la presentación.\n",
    "Gráficos disponibles a partir de una url pública o privada, para incrustarla el grafico en la ppt."
   ]
  },
  {
   "cell_type": "markdown",
   "metadata": {
    "slideshow": {
     "slide_type": "slide"
    }
   },
   "source": [
    "##### Solución nivel 1: ¿Cómo se debe usar?\n",
    "\n",
    "1. Crear la encuesta previamente.\n",
    "2. Obtener la url de las preguntas, e incrustarla en un iframe.\n",
    "3. Obtener la url de las respuestas (gráficos dinámicos), e incrustarla en un iframe."
   ]
  },
  {
   "cell_type": "markdown",
   "metadata": {
    "slideshow": {
     "slide_type": "notes"
    }
   },
   "source": [
    "Relato: En general, la versión “gratis” permite hacer preguntas y ver los resultados, pero requiere haberla preparado antes para tener el enlace, y no permite descargar los resultados para explorarlos más “cientificamente”. Es necesario haber creado la presentación de antemano y es más difícil cambiarla a último momento. Dependiendo de la empresa, funciona más o menos fácil y “auto-refresh”."
   ]
  },
  {
   "cell_type": "markdown",
   "metadata": {
    "slideshow": {
     "slide_type": "slide"
    }
   },
   "source": [
    "##### Solución Nivel 2\n",
    "\n",
    "."
   ]
  },
  {
   "cell_type": "markdown",
   "metadata": {
    "slideshow": {
     "slide_type": "fragment"
    }
   },
   "source": [
    "* Google Survey\n",
    "* Microsoft Forms\n",
    "* Survey Monkey\n",
    "* Typeform\n",
    "* Muchas otras..."
   ]
  },
  {
   "cell_type": "markdown",
   "metadata": {
    "slideshow": {
     "slide_type": "notes"
    }
   },
   "source": [
    "Relato: El siguiente nivel es enviar una encuesta de un servicio más estándar, como Google Survey, Microsoft Forms, Survey Monkey o Typeform."
   ]
  },
  {
   "cell_type": "markdown",
   "metadata": {
    "slideshow": {
     "slide_type": "slide"
    }
   },
   "source": [
    "##### Solución Nivel 2: Encuesta\n",
    "\n",
    "https://forms.gle/bcvgTujrdwac1r8K7"
   ]
  },
  {
   "cell_type": "code",
   "execution_count": 37,
   "metadata": {},
   "outputs": [
    {
     "data": {
      "text/html": [
       "\n",
       "        <iframe\n",
       "            width=\"1200\"\n",
       "            height=\"600\"\n",
       "            src=\"https://forms.gle/bcvgTujrdwac1r8K7\"\n",
       "            frameborder=\"0\"\n",
       "            allowfullscreen\n",
       "        ></iframe>\n",
       "        "
      ],
      "text/plain": [
       "<IPython.lib.display.IFrame at 0x11ee94290>"
      ]
     },
     "execution_count": 37,
     "metadata": {},
     "output_type": "execute_result"
    }
   ],
   "source": [
    "iframe_options = {\"width\":1200, \"height\":600}\n",
    "IFrame(\"https://forms.gle/bcvgTujrdwac1r8K7\", **iframe_options)"
   ]
  },
  {
   "cell_type": "markdown",
   "metadata": {
    "slideshow": {
     "slide_type": "notes"
    }
   },
   "source": [
    "Notas: Por ejemplo, accedan a la encuesta que se encuentra en la siguiente dirección: XYZ. Mostrar con un iframe el contenido de la encuesta y leer."
   ]
  },
  {
   "cell_type": "markdown",
   "metadata": {
    "slideshow": {
     "slide_type": "slide"
    }
   },
   "source": [
    "##### Solución Nivel 2:  ¿Qué debe cumplir un sitio de encuestas interactivas?\n",
    "* Encuesta accesible con una url pública, incrustable con un iframe.\n",
    "* Datos disponibles a partir de una url pública, que permita descargar los datos.\n",
    "* Crear una función (en Python) para descargar e interpretar los datos.\n",
    "\n",
    "https://forms.gle/bcvgTujrdwac1r8K7"
   ]
  },
  {
   "cell_type": "markdown",
   "metadata": {
    "slideshow": {
     "slide_type": "notes"
    }
   },
   "source": [
    "Notas: ¿Que fue lo que hicimos acá? Veamos un poco más de detalle. La página web que accesaron tuvo que ser creada antes, y el link para compartir incrustado en la presentación. La tabla con los resultados se interpreta con alguna función apropiada, por ejemplo, en este caso, usé pandas y matplotlib porque porqué no."
   ]
  },
  {
   "cell_type": "markdown",
   "metadata": {
    "slideshow": {
     "slide_type": "slide"
    }
   },
   "source": [
    "##### Solución Nivel 2: Respuestas"
   ]
  },
  {
   "cell_type": "code",
   "execution_count": 38,
   "metadata": {},
   "outputs": [
    {
     "name": "stdout",
     "output_type": "stream",
     "text": [
      "https://docs.google.com/spreadsheets/d/1uHXiQncV9z6biIWT0kuZY_qF-I9LZePmERtwj1Gi6bM/export?format=csv\n",
      "  Timestamp ¿Cual es el mejor animal?\n",
      "0       NaN                       NaN\n",
      "1       NaN                       NaN\n",
      "2       NaN                       NaN\n",
      "3       NaN                       NaN\n",
      "4       NaN                       NaN\n"
     ]
    }
   ],
   "source": [
    "### import pandas as pd\n",
    "import matplotlib.pyplot as plt \n",
    "google_url = \"https://docs.google.com/spreadsheets/d/1uHXiQncV9z6biIWT0kuZY_qF-I9LZePmERtwj1Gi6bM\"\n",
    "download_url = google_url + \"/export?format=csv\"\n",
    "print(download_url)\n",
    "df = pd.read_csv(download_url)\n",
    "print(df.head())"
   ]
  },
  {
   "cell_type": "markdown",
   "metadata": {
    "slideshow": {
     "slide_type": "notes"
    }
   },
   "source": [
    " La tabla con los resultados se interpreta con alguna función apropiada, por ejemplo, en este caso, usé pandas y matplotlib porque porqué no."
   ]
  },
  {
   "cell_type": "markdown",
   "metadata": {
    "slideshow": {
     "slide_type": "slide"
    }
   },
   "source": [
    "##### Solución Nivel 2: Respuestas"
   ]
  },
  {
   "cell_type": "code",
   "execution_count": 39,
   "metadata": {},
   "outputs": [
    {
     "data": {
      "text/html": [
       "<div>\n",
       "<style scoped>\n",
       "    .dataframe tbody tr th:only-of-type {\n",
       "        vertical-align: middle;\n",
       "    }\n",
       "\n",
       "    .dataframe tbody tr th {\n",
       "        vertical-align: top;\n",
       "    }\n",
       "\n",
       "    .dataframe thead th {\n",
       "        text-align: right;\n",
       "    }\n",
       "</style>\n",
       "<table border=\"1\" class=\"dataframe\">\n",
       "  <thead>\n",
       "    <tr style=\"text-align: right;\">\n",
       "      <th></th>\n",
       "      <th>Timestamp</th>\n",
       "    </tr>\n",
       "    <tr>\n",
       "      <th>¿Cual es el mejor animal?</th>\n",
       "      <th></th>\n",
       "    </tr>\n",
       "  </thead>\n",
       "  <tbody>\n",
       "    <tr>\n",
       "      <td>Gato</td>\n",
       "      <td>2</td>\n",
       "    </tr>\n",
       "    <tr>\n",
       "      <td>Perro</td>\n",
       "      <td>1</td>\n",
       "    </tr>\n",
       "  </tbody>\n",
       "</table>\n",
       "</div>"
      ],
      "text/plain": [
       "                           Timestamp\n",
       "¿Cual es el mejor animal?           \n",
       "Gato                               2\n",
       "Perro                              1"
      ]
     },
     "execution_count": 39,
     "metadata": {},
     "output_type": "execute_result"
    }
   ],
   "source": [
    "### import pandas as pd\n",
    "question = df.columns[1]\n",
    "answer_counts = df.groupby(question).count()\n",
    "answer_counts"
   ]
  },
  {
   "cell_type": "code",
   "execution_count": 40,
   "metadata": {},
   "outputs": [
    {
     "data": {
      "text/plain": [
       "<matplotlib.axes._subplots.AxesSubplot at 0x11f0414d0>"
      ]
     },
     "execution_count": 40,
     "metadata": {},
     "output_type": "execute_result"
    },
    {
     "data": {
      "image/png": "[encoded data removed]",
      "text/plain": [
       "<Figure size 1152x432 with 1 Axes>"
      ]
     },
     "metadata": {
      "needs_background": "light"
     },
     "output_type": "display_data"
    }
   ],
   "source": [
    "answer_counts.plot.barh(figsize=(16,6))"
   ]
  },
  {
   "cell_type": "markdown",
   "metadata": {
    "slideshow": {
     "slide_type": "slide"
    }
   },
   "source": [
    "##### Solución Nivel 2: Respuestas"
   ]
  },
  {
   "cell_type": "code",
   "execution_count": 45,
   "metadata": {},
   "outputs": [
    {
     "data": {
      "image/png": "[encoded data removed]",
      "text/plain": [
       "<Figure size 1152x432 with 1 Axes>"
      ]
     },
     "metadata": {
      "needs_background": "light"
     },
     "output_type": "display_data"
    }
   ],
   "source": [
    "answer_counts.plot.barh(figsize=(16,6), fontsize=16)\n",
    "plt.suptitle(question, fontsize=16)\n",
    "plt.xlabel(\"Número de respuestas\", fontsize=16)\n",
    "plt.ylabel(\"\");"
   ]
  },
  {
   "cell_type": "markdown",
   "metadata": {
    "slideshow": {
     "slide_type": "slide"
    }
   },
   "source": [
    "##### Solución nivel 2: ¿Cómo se debe usar?\n",
    "\n",
    "1. Crear la encuesta previamente.\n",
    "2. Obtener la url de las preguntas, e incrustarla en un iframe.\n",
    "3. Obtener la url de los datos de las respuestas.\n",
    "4. Generar una función para interpretar los datos."
   ]
  },
  {
   "cell_type": "markdown",
   "metadata": {
    "slideshow": {
     "slide_type": "notes"
    }
   },
   "source": [
    "Leer."
   ]
  },
  {
   "cell_type": "markdown",
   "metadata": {
    "slideshow": {
     "slide_type": "slide"
    }
   },
   "source": [
    "##### Solución Nivel 3\n",
    "\n",
    "."
   ]
  },
  {
   "cell_type": "markdown",
   "metadata": {
    "slideshow": {
     "slide_type": "notes"
    }
   },
   "source": [
    "Notas: Por supuesto, la versión que nos da más control de todo es hacerlo a lo macgiver. Par los millenials de la sala, macgiver es un programa de televisión donde el protagonista podía hacer una bomba con un moco. En fin, la idea es hacer todo desde cero: la página web con su base de datos y gráficos."
   ]
  },
  {
   "cell_type": "markdown",
   "metadata": {
    "slideshow": {
     "slide_type": "slide"
    }
   },
   "source": [
    "##### Solución Nivel 3\n",
    "\n",
    "."
   ]
  },
  {
   "cell_type": "markdown",
   "metadata": {
    "slideshow": {
     "slide_type": "notes"
    }
   },
   "source": [
    "Notas: Sí, es bastante trabajo. Este es un diagrama reducido de cómo funcionaría."
   ]
  },
  {
   "cell_type": "markdown",
   "metadata": {
    "slideshow": {
     "slide_type": "slide"
    }
   },
   "source": [
    "##### Solución Nivel 3\n",
    "\n",
    "."
   ]
  },
  {
   "cell_type": "markdown",
   "metadata": {
    "slideshow": {
     "slide_type": "notes"
    }
   },
   "source": [
    "Notas: Pero tiene la ventaja que es posible dejarlo tal y cual lo queremos. Por ejemplo, si quiero cambiar la pregunta y sus opciones durante la presentación. Para lograr esto le di la funcionalidad de que genere automáticamente una encuesta a partir de un texto con formato markdown.\n"
   ]
  },
  {
   "cell_type": "markdown",
   "metadata": {
    "slideshow": {
     "slide_type": "slide"
    }
   },
   "source": [
    "##### Solución Nivel 3\n",
    "\n",
    "."
   ]
  },
  {
   "cell_type": "markdown",
   "metadata": {
    "slideshow": {
     "slide_type": "notes"
    }
   },
   "source": [
    "Notas: Para eso, tuve que yo mismo definir ciertas convenciones. Una pregunta de alternativas únicas tipo button, se genera con opciones dadas con o. Una pregunta de alternativas multiples, se genera con alternativas encabezadas por +. Es posible usar * para negritas y ** para italicas como en markdown normal. (¿se puede?)"
   ]
  },
  {
   "cell_type": "markdown",
   "metadata": {
    "slideshow": {
     "slide_type": "slide"
    }
   },
   "source": [
    "##### Solución Nivel 3\n",
    "\n",
    "."
   ]
  },
  {
   "cell_type": "markdown",
   "metadata": {
    "slideshow": {
     "slide_type": "notes"
    }
   },
   "source": [
    "Notas: Hagamos un último experimento. Respondan a la siguiente encuesta. \n",
    "Ejecutar funcionalidad que permite compilar y mostrar una pregunta.\n",
    "DEBE: Generar una url + decir tipo de pregunta + mostrar html compilado con preguntas a responder."
   ]
  },
  {
   "cell_type": "markdown",
   "metadata": {
    "slideshow": {
     "slide_type": "slide"
    }
   },
   "source": [
    "##### Solución Nivel 3\n",
    "\n",
    "."
   ]
  },
  {
   "cell_type": "markdown",
   "metadata": {
    "slideshow": {
     "slide_type": "notes"
    }
   },
   "source": [
    "Notas: Y ahora veamos los resultados. \n",
    "Ejecutar función específica para ver los resultados de la encuesta. \n",
    "Los gráficos, en caso que se pregunten, están hechos con la librería xkcdcharts de javascript que emulan los clásicos dibujos del webcomic xkcd.\n"
   ]
  },
  {
   "cell_type": "markdown",
   "metadata": {
    "slideshow": {
     "slide_type": "slide"
    }
   },
   "source": [
    "##### Solución Nivel 3\n",
    "\n",
    "."
   ]
  },
  {
   "cell_type": "markdown",
   "metadata": {
    "slideshow": {
     "slide_type": "notes"
    }
   },
   "source": [
    "Notas: Por supuesto, esto requiere contar con bastante bastante tiempo. Hacer este prototipo, me tomó probablemente unas 2 semanas de experimentación, pero aprendí muchísimo y se lo aconsejo a quienes les guste intrusear en temas similares."
   ]
  },
  {
   "cell_type": "markdown",
   "metadata": {
    "slideshow": {
     "slide_type": "slide"
    }
   },
   "source": [
    "##### Solución Nivel 3\n",
    "\n",
    "."
   ]
  },
  {
   "cell_type": "markdown",
   "metadata": {
    "slideshow": {
     "slide_type": "notes"
    }
   },
   "source": [
    "Notas: Existe la situación adicional de tener que alojar la página web y base de datos. Para eso, podemos usar aws, azure u otras alternativas, aunque pythoneverywhere nos permite tener una versión gratis suficiente para lo que necesitamos."
   ]
  },
  {
   "cell_type": "markdown",
   "metadata": {
    "slideshow": {
     "slide_type": "slide"
    }
   },
   "source": [
    "##### Conclusión: Opción 1\n",
    "\n",
    "<table align=\"left\">\n",
    "  <tr>\n",
    "    <td><b></b></td>\n",
    "    <td><b>Ventaja</b></td>\n",
    "    <td><b>Desventaja</b></td>\n",
    "  <tr>\n",
    "    <td>Complejidad</td>\n",
    "    <td>Muy simple</td>\n",
    "    <td></td>\n",
    "  </tr>\n",
    "  <tr>\n",
    "    <td>Precio</td>\n",
    "    <td>Versión limitada gratis</td>\n",
    "    <td>Versión pagada con más funcionalidades</td>\n",
    "  </tr>\n",
    "  <tr>\n",
    "    <td>Gráficos</td>\n",
    "    <td>Graficos predefinidos</td>\n",
    "    <td>Graficos predefinidos</td>\n",
    "  </tr>\n",
    "  <tr>\n",
    "    <td>Datos</td>\n",
    "    <td></td>\n",
    "    <td>Sin accceso a datos</td>\n",
    "  </tr>\n",
    "</table>"
   ]
  },
  {
   "cell_type": "markdown",
   "metadata": {
    "slideshow": {
     "slide_type": "notes"
    }
   },
   "source": [
    "Notas: Para concluir, veamos los pros y contras de estas 3 opciones. \n",
    "La opción “iframe de empresa de encuestas interactiva” tiene como ventaja el ser extremadamente sencillo, pero con limitaciones en la representación gráfica y en la descarga de resultados, y hay que preparar preguntas de antemano. Pero en relación al tiempo-calidad, es muy conveniente.\n",
    "Imagen: Nobody aint time 4 that"
   ]
  },
  {
   "cell_type": "markdown",
   "metadata": {
    "slideshow": {
     "slide_type": "slide"
    }
   },
   "source": [
    "##### Conclusión: Opción 2\n",
    "\n",
    "<table align=\"left\">\n",
    "  <tr>\n",
    "    <td><b></b></td>\n",
    "    <td><b>Ventaja</b></td>\n",
    "    <td><b>Desventaja</b></td>\n",
    "  <tr>\n",
    "    <td>Complejidad</td>\n",
    "    <td>Simple</td>\n",
    "    <td></td>\n",
    "  </tr>\n",
    "  <tr>\n",
    "    <td>Precio</td>\n",
    "    <td>Versión gratis es suficiente</td>\n",
    "    <td></td>\n",
    "  </tr>\n",
    "  <tr>\n",
    "    <td>Gráficos</td>\n",
    "    <td>Configurables</td>\n",
    "    <td>Requieren código</td>\n",
    "  </tr>\n",
    "  <tr>\n",
    "    <td>Datos</td>\n",
    "    <td>Con accceso a datos</td>\n",
    "    <td></td>\n",
    "  </tr>\n",
    "</table>"
   ]
  },
  {
   "cell_type": "markdown",
   "metadata": {
    "slideshow": {
     "slide_type": "notes"
    }
   },
   "source": [
    "Notas: La opción “encuesta tradicional” tiene la ventaja de permitir almacenar y revisar los resultados, pero requiere haber creado previamente funciones para descargar y graficar los resultados. Sigue siendo conveniente, pero a veces tiene un delay que hace que los resultados no sean “realmente en vivo”. Hay que preparar preguntas de antemano, y las funciones para graficar.\n",
    "(¿Alguna imagen donde el lag sea divertido?)\n"
   ]
  },
  {
   "cell_type": "markdown",
   "metadata": {
    "slideshow": {
     "slide_type": "slide"
    }
   },
   "source": [
    "##### Conclusión: Opción 3\n",
    "\n",
    "<table align=\"left\">\n",
    "  <tr>\n",
    "    <td><b></b></td>\n",
    "    <td><b>Ventaja</b></td>\n",
    "    <td><b>Desventaja</b></td>\n",
    "  <tr>\n",
    "    <td>Complejidad</td>\n",
    "    <td></td>\n",
    "    <td>Muy complejo</td>\n",
    "  </tr>\n",
    "  <tr>\n",
    "    <td>Precio</td>\n",
    "    <td>Hosting gratis es suficiente</td>\n",
    "    <td></td>\n",
    "  </tr>\n",
    "  <tr>\n",
    "    <td>Gráficos</td>\n",
    "    <td>Configurables</td>\n",
    "    <td>Requieren <b>mucho</b> código</td>\n",
    "  </tr>\n",
    "  <tr>\n",
    "    <td>Datos</td>\n",
    "    <td>Con accceso completo a datos</td>\n",
    "    <td></td>\n",
    "  </tr>\n",
    "</table>"
   ]
  },
  {
   "cell_type": "markdown",
   "metadata": {
    "slideshow": {
     "slide_type": "notes"
    }
   },
   "source": [
    "Notas: La opción “lo haré yo mismo” (imagen de bender con su meme de blackjack y putas) tiene la ventaja de tener todo lo imaginable: control de los datos, control de los gráficos, incluso generación “dinámica” a partir de un markdown. Pero tiene la desventaja de haber necesitado crear todo eso. Pero es un aprendizaje altamente educativo, aunque costoso en tiempo. Si les interesa, pueden ver el repo en mi github: sebastiandres + little_survey_website."
   ]
  },
  {
   "cell_type": "markdown",
   "metadata": {
    "slideshow": {
     "slide_type": "slide"
    }
   },
   "source": [
    "##### Conclusión\n",
    "\n",
    "## ¿Preguntas?\n",
    "\n",
    "[link a ultilma encuesta]"
   ]
  },
  {
   "cell_type": "markdown",
   "metadata": {
    "slideshow": {
     "slide_type": "notes"
    }
   },
   "source": [
    "Slide: ¿Preguntas?\n",
    "Notas: Y bueno, así llegamos a la sección final  de preguntas en la cual pasaremos 5 minutos incómodos en silencio, a menos que alguien quiera hacer alguna pregunta y observación. Mientras tanto, pueden responder a una última encuesta: \n",
    "PONER LINK PERO NO MOSTRAR CONTENIDO."
   ]
  }
 ],
 "metadata": {
  "celltoolbar": "Slideshow",
  "kernelspec": {
   "display_name": "Python 3",
   "language": "python",
   "name": "python3"
  },
  "language_info": {
   "codemirror_mode": {
    "name": "ipython",
    "version": 3
   },
   "file_extension": ".py",
   "mimetype": "text/x-python",
   "name": "python",
   "nbconvert_exporter": "python",
   "pygments_lexer": "ipython3",
   "version": "3.7.4"
  }
 },
 "nbformat": 4,
 "nbformat_minor": 4
}
