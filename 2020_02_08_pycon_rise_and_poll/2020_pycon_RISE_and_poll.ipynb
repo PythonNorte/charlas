{
 "cells": [
  {
   "cell_type": "code",
   "execution_count": 25,
   "metadata": {
    "slideshow": {
     "slide_type": "skip"
    }
   },
   "outputs": [
    {
     "data": {
      "text/plain": [
       "{'theme': 'white', 'transition': 'none', 'start_slideshow_at': 'selected'}"
      ]
     },
     "execution_count": 25,
     "metadata": {},
     "output_type": "execute_result"
    }
   ],
   "source": [
    "#!/usr/bin/env python3\n",
    "from traitlets.config.manager import BaseJSONConfigManager\n",
    "from pathlib import Path\n",
    "path = Path.home() / \".jupyter\" / \"nbconfig\"\n",
    "cm = BaseJSONConfigManager(config_dir=str(path))\n",
    "cm.update(\n",
    "    \"rise\",\n",
    "    {\n",
    "        \"theme\": \"white\",\n",
    "        \"transition\": \"none\",\n",
    "    }\n",
    ")"
   ]
  },
  {
   "cell_type": "code",
   "execution_count": null,
   "metadata": {
    "slideshow": {
     "slide_type": "slide"
    }
   },
   "outputs": [],
   "source": [
    "%matplotlib inline"
   ]
  },
  {
   "cell_type": "markdown",
   "metadata": {
    "slideshow": {
     "slide_type": "slide"
    }
   },
   "source": [
    "## Presentaciones y encuestas interactivas con jupyter notebooks y RISE\n",
    "### pycon Colombia 2020\n",
    "### Sebastian Flores\n",
    "#### 07 Febrero 2020"
   ]
  },
  {
   "cell_type": "markdown",
   "metadata": {
    "slideshow": {
     "slide_type": "slide"
    }
   },
   "source": [
    "**Observaciones:**\n",
    "* sebastiandres en twitter y github.\n",
    "* Opiniones y críticas a título personal.\n",
    "* Presentación en [github.com/sebastiandres/charlas](github.com/sebastiandres/charlas)"
   ]
  },
  {
   "cell_type": "markdown",
   "metadata": {
    "slideshow": {
     "slide_type": "notes"
    }
   },
   "source": [
    "Hola. Mi nombre es Sebastián Flores, y quiero compartir algunos experimentos que realicé para realizar encuestas en vivo mientras se presenta en jupyter notebook con la extensión RISE.  No es necesario que tomen apuntes, la presentación y todos los enlaces están en mi github: sebastiandres (el repo se llama charlas, es el primero)."
   ]
  },
  {
   "cell_type": "markdown",
   "metadata": {
    "slideshow": {
     "slide_type": "slide"
    }
   },
   "source": [
    "##### Introducción\n",
    "\n",
    "¿Encuestas interactivas en presentaciones con jupyter notebooks?"
   ]
  },
  {
   "cell_type": "markdown",
   "metadata": {
    "slideshow": {
     "slide_type": "fragment"
    }
   },
   "source": [
    "<img src=\"images/intro.png\"  width=\"1200\">"
   ]
  },
  {
   "cell_type": "markdown",
   "metadata": {
    "slideshow": {
     "slide_type": "notes"
    }
   },
   "source": [
    "La necesidad nació hace algunos meses cuando la noche anterior a realizar una charla a unos estudiantes, quise realizar una encuesta en vivo, pero me di cuenta que no sabía como hacerlo sin salir de RISE y jupyter notebook. Mi talento googleador tampoco me ayudó, así que supongo que si alguien ya lo ha hecho, no lo ha documentado. Así que al menos esto sirve para auto-contestarme. Esto va para ti, Sebastian del lejano pasado."
   ]
  },
  {
   "cell_type": "markdown",
   "metadata": {
    "slideshow": {
     "slide_type": "slide"
    }
   },
   "source": [
    "##### Agenda\n",
    "\n",
    "0. Sobre hacer presentaciones con RISE.\n",
    "1. Solución 1: Quick & dirty.\n",
    "2. Solución 2: ¡Pero quiero los datos!\n",
    "3. Solución 3: No confío en nadie."
   ]
  },
  {
   "cell_type": "markdown",
   "metadata": {
    "slideshow": {
     "slide_type": "notes"
    }
   },
   "source": [
    "La presentación está estructurada de lo más general a lo más específico, y de lo más mainstream a lo más geek/hipster. Así que un poco de paciencia si hay cosas que parecen muy evidentes."
   ]
  },
  {
   "cell_type": "markdown",
   "metadata": {
    "slideshow": {
     "slide_type": "slide"
    }
   },
   "source": [
    "##### 0.1 Sobre hacer presentaciones con jupyter y RISE\n",
    "\n",
    "¿Consejos?"
   ]
  },
  {
   "cell_type": "markdown",
   "metadata": {
    "slideshow": {
     "slide_type": "fragment"
    }
   },
   "source": [
    "* Contenido pensado en tu audiencia. \n",
    "* Ensayar, ensayar, ensayar."
   ]
  },
  {
   "cell_type": "markdown",
   "metadata": {
    "slideshow": {
     "slide_type": "notes"
    }
   },
   "source": [
    "Relato: ¿Cómo hacer una buena presentación? Este es un tema en sí mismo. No soy para nada un experto, pero he aprendido algunas cosas.\n",
    "Relato: Aunque parezca un consejotrivial, hay 2 elementos a considerar: saber quién es la audiencia y preparar el contenido necesario. Y haber ensayado varias veces la presentación y ser familiar con el contenido es la mejor forma de que el relato sea fluido. Al final, toda habilidad es como un músculo. Cuando lo ejercitas, se vuelve más fuerte y resulta más fácil usarlo. Esta misma presentación ya la he ensayado unas 10 veces. Sí, toma tiempo."
   ]
  },
  {
   "cell_type": "markdown",
   "metadata": {
    "slideshow": {
     "slide_type": "slide"
    }
   },
   "source": [
    "##### 0.2 Sobre hacer presentaciones con jupyter y RISE\n",
    "\n",
    "Si forma parte importante de tu día a día, investiga y aprende a hacer mejores presentaciones."
   ]
  },
  {
   "cell_type": "markdown",
   "metadata": {
    "slideshow": {
     "slide_type": "fragment"
    }
   },
   "source": [
    "Libro que considero muy bueno: Confessions of a public speaker - Scott Berkum.\n",
    "\n",
    "\n",
    "<img src=\"images/libros.png\"  width=\"300\">"
   ]
  },
  {
   "cell_type": "markdown",
   "metadata": {
    "slideshow": {
     "slide_type": "notes"
    }
   },
   "source": [
    "Relato: Por supuesto, hay varios libros que se pueden leer al respecto. A mi me gustó este. Confessions of a public Speaker - Scott Berkum. Consejos prácticos y con un tono de humor."
   ]
  },
  {
   "cell_type": "markdown",
   "metadata": {
    "slideshow": {
     "slide_type": "slide"
    }
   },
   "source": [
    "##### 0.3 Sobre hacer presentaciones con jupyter y RISE\n",
    "\n",
    "¿Qué es la extensión RISE?"
   ]
  },
  {
   "cell_type": "markdown",
   "metadata": {
    "slideshow": {
     "slide_type": "fragment"
    }
   },
   "source": [
    "<img src=\"images/RISE.png\"  width=\"1200\">"
   ]
  },
  {
   "cell_type": "markdown",
   "metadata": {
    "slideshow": {
     "slide_type": "notes"
    }
   },
   "source": [
    "Relato: Si les interesa pueden buscar un tutorial más completo sobre hacer presentaciones en RISE. Pero en resumen, es lo que muestra esta animación (gif). Basta marcar una celda de jupyter notebook con la propiedad “slide”, “sub-slide”, “fragment”, o “” para que esta adquiera la propiedad. Y luego se pone en modo presentación. ¡Voilá!"
   ]
  },
  {
   "cell_type": "markdown",
   "metadata": {
    "slideshow": {
     "slide_type": "slide"
    }
   },
   "source": [
    "##### 0.4 Sobre hacer presentaciones con jupyter y RISE\n",
    "\n",
    "* Slide: Diapositiva normal.\n",
    "* Fragment: Fragmento de diapositiva.\n",
    "* Sub-slide: Opcional.\n",
    "* Skip: No mostrar.\n",
    "* Notes: Notas."
   ]
  },
  {
   "cell_type": "markdown",
   "metadata": {},
   "source": [
    "Toda la info en https://rise.readthedocs.io/"
   ]
  },
  {
   "cell_type": "markdown",
   "metadata": {
    "slideshow": {
     "slide_type": "notes"
    }
   },
   "source": [
    "Relato: ¿Para que sirve cada una? “Slide” es efectivamente una diapositiva normal. \n",
    "“Fragment” permite que la slide se revele poco a poco.\n",
    "“Sub-slide” es una diapositiva “opcional”, solo se muestra si se usa la flecha hacia abajo. A mi me confunde recordar en que orden mostrarlos, así que prefiero tenerlas de respaldo por si necesito mostrar una slide “reservada”.\n",
    "“???” permite que la celda no se muestre."
   ]
  },
  {
   "cell_type": "markdown",
   "metadata": {
    "slideshow": {
     "slide_type": "slide"
    }
   },
   "source": [
    "##### 0.5 Sobre hacer presentaciones con jupyter y RISE\n",
    "\n",
    "¿Que he aprendido?"
   ]
  },
  {
   "cell_type": "markdown",
   "metadata": {
    "slideshow": {
     "slide_type": "fragment"
    }
   },
   "source": [
    "* Usa \"Ctrl +\" y \"Ctrl -\" para controlar aspecto."
   ]
  },
  {
   "cell_type": "markdown",
   "metadata": {
    "slideshow": {
     "slide_type": "fragment"
    }
   },
   "source": [
    "* Entrega parte del control de contenido al público. Usa un teclado+mouse inalámbrico."
   ]
  },
  {
   "cell_type": "markdown",
   "metadata": {
    "slideshow": {
     "slide_type": "fragment"
    }
   },
   "source": [
    "* Plantea desafíos de código incompleto pero entrega propuestas de solución."
   ]
  },
  {
   "cell_type": "markdown",
   "metadata": {
    "slideshow": {
     "slide_type": "fragment"
    }
   },
   "source": [
    "* `git` es tu amigo."
   ]
  },
  {
   "cell_type": "markdown",
   "metadata": {
    "slideshow": {
     "slide_type": "fragment"
    }
   },
   "source": [
    "* Improvisa. Nunca será como planificaste."
   ]
  },
  {
   "cell_type": "markdown",
   "metadata": {
    "slideshow": {
     "slide_type": "notes"
    }
   },
   "source": [
    "Relato: ¿Qué cosas he aprendido en estos años haciendo presentaciones con RISE? \n",
    "(0) Más que jugar con los fonts, regular con Ctrl+ y Ctr- como se ve en pantalla.\n",
    "(1) No tener temor en pedir ideas a la audiencia sobre que valores probar o alternativas de código a implementar. (2) Usar un teclado y mouse inalámbrico, para clases de computación.\n",
    "(3) Poner soluciones pre-definidas a los problemas, en lugar de escribirlos en directo (por tiempo).\n",
    "(4) Saber que textos mostrar y cuales ocultar.\n",
    "(5) Usar un repo para volver a versiones anteriores.\n",
    "Usar un diagrama de celdas y mostrar lo que hace “con algunas cajitas”."
   ]
  },
  {
   "cell_type": "markdown",
   "metadata": {
    "slideshow": {
     "slide_type": "slide"
    }
   },
   "source": [
    "##### 0.6 Descripción del Problema"
   ]
  },
  {
   "cell_type": "markdown",
   "metadata": {
    "slideshow": {
     "slide_type": "fragment"
    }
   },
   "source": [
    "**¿Qué queremos?** \n",
    "\n",
    "Realizar encuesta interactiva sin salir del modo presentación (en RISE).\n"
   ]
  },
  {
   "cell_type": "markdown",
   "metadata": {
    "slideshow": {
     "slide_type": "fragment"
    }
   },
   "source": [
    "**¿Porqué?** \n",
    "\n",
    "* Tener una presentación autocontenida: el código queda en jupyter notebook.\n",
    "* Iterar y obtener retroalimentación de la audiencia cuando importa.\n",
    "* Corregir k\n",
    "uando sea necesario."
   ]
  },
  {
   "cell_type": "code",
   "execution_count": null,
   "metadata": {},
   "outputs": [],
   "source": []
  },
  {
   "cell_type": "markdown",
   "metadata": {
    "slideshow": {
     "slide_type": "notes"
    }
   },
   "source": [
    "Relato: Bueno, llevamos 5 minutos y todavía no hablamos siquiera del problema ¡ni código!. ¿Qué es lo que intentamos resolver? Cuando uno realiza presentación a una audiencia desafiante - estudiantes de primer año de universidad, que no resisten 45 minutos sin mirar su celular - resulta interesante proporcionar un medio para obtener retroalimentación de manera sencilla y directa. Pero ¿Podemos hacer eso en presentaciones con jupyter notebook? "
   ]
  },
  {
   "cell_type": "markdown",
   "metadata": {
    "slideshow": {
     "slide_type": "slide"
    }
   },
   "source": [
    "##### 1.7 Descripción del Problema"
   ]
  },
  {
   "cell_type": "markdown",
   "metadata": {
    "slideshow": {
     "slide_type": "fragment"
    }
   },
   "source": [
    "**¿Se puede?**"
   ]
  },
  {
   "cell_type": "markdown",
   "metadata": {
    "slideshow": {
     "slide_type": "fragment"
    }
   },
   "source": [
    "Sí, y de varias maneras distintas."
   ]
  },
  {
   "cell_type": "markdown",
   "metadata": {
    "slideshow": {
     "slide_type": "fragment"
    }
   },
   "source": [
    "**¿Cómo?**"
   ]
  },
  {
   "cell_type": "markdown",
   "metadata": {
    "slideshow": {
     "slide_type": "fragment"
    }
   },
   "source": [
    "IFrames."
   ]
  },
  {
   "cell_type": "markdown",
   "metadata": {
    "slideshow": {
     "slide_type": "notes"
    }
   },
   "source": [
    "Relato: Pensaba que era algo muy dificil. Pero finalmente encontré varias formas distintas."
   ]
  },
  {
   "cell_type": "markdown",
   "metadata": {
    "slideshow": {
     "slide_type": "slide"
    }
   },
   "source": [
    "##### 0.9 Descripción del Problema\n",
    "\n",
    "Nuestro héroe se llama IFrame."
   ]
  },
  {
   "cell_type": "code",
   "execution_count": 26,
   "metadata": {},
   "outputs": [
    {
     "data": {
      "text/html": [
       "\n",
       "        <iframe\n",
       "            width=\"800\"\n",
       "            height=\"500\"\n",
       "            src=\"https://es.wikipedia.org/wiki/Iframe\"\n",
       "            frameborder=\"0\"\n",
       "            allowfullscreen\n",
       "        ></iframe>\n",
       "        "
      ],
      "text/plain": [
       "<IPython.lib.display.IFrame at 0x1106ce190>"
      ]
     },
     "execution_count": 26,
     "metadata": {},
     "output_type": "execute_result"
    }
   ],
   "source": [
    "from IPython.display import IFrame\n",
    "IFrame(\"https://es.wikipedia.org/wiki/Iframe\", width=800, height=500) #https://es.wikipedia.org/wiki/Iframe"
   ]
  },
  {
   "cell_type": "markdown",
   "metadata": {
    "slideshow": {
     "slide_type": "-"
    }
   },
   "source": [
    "Otros:\n",
    "* https://www.pycon.co/\n",
    "* https://rise.readthedocs.io/"
   ]
  },
  {
   "cell_type": "markdown",
   "metadata": {
    "slideshow": {
     "slide_type": "notes"
    }
   },
   "source": [
    "Relato: Las funciones HTML y Iframe son nuestras héroes. Todo esfuerzo de lo que haremos recae en sus hombros. Diferencias de html y iframe. DEFINICION DE IFRAME. Mostrar "
   ]
  },
  {
   "cell_type": "markdown",
   "metadata": {
    "slideshow": {
     "slide_type": "slide"
    }
   },
   "source": [
    "##### 0.10 Descripción del Problema\n",
    "\n",
    "Más ejemplos ..."
   ]
  },
  {
   "cell_type": "code",
   "execution_count": 27,
   "metadata": {},
   "outputs": [
    {
     "data": {
      "text/html": [
       "\n",
       "        <iframe\n",
       "            width=\"800\"\n",
       "            height=\"300\"\n",
       "            src=\"https://www.python.org/\"\n",
       "            frameborder=\"0\"\n",
       "            allowfullscreen\n",
       "        ></iframe>\n",
       "        "
      ],
      "text/plain": [
       "<IPython.lib.display.IFrame at 0x111caaed0>"
      ]
     },
     "execution_count": 27,
     "metadata": {},
     "output_type": "execute_result"
    }
   ],
   "source": [
    "from IPython.display import IFrame\n",
    "IFrame(\"https://www.python.org/\", width=800, height=300)"
   ]
  },
  {
   "cell_type": "markdown",
   "metadata": {
    "slideshow": {
     "slide_type": "fragment"
    }
   },
   "source": [
    "No siempre funciona:\n",
    "* https://www.python.org/\n",
    "* google, facebook, twitter, ..."
   ]
  },
  {
   "cell_type": "markdown",
   "metadata": {
    "slideshow": {
     "slide_type": "fragment"
    }
   },
   "source": [
    "En general a los sitios que requieren autentificación (y desean hacer tracking de usuarios) bloquean los IFrames."
   ]
  },
  {
   "cell_type": "markdown",
   "metadata": {
    "slideshow": {
     "slide_type": "skip"
    }
   },
   "source": [
    "##### 0.11 Descripción del Problema: EXTRA\n",
    "\n",
    "Más ejemplos ...\n",
    "¡IFrame nos permite incluso embeber un jupyter notebook dentro de otro!"
   ]
  },
  {
   "cell_type": "code",
   "execution_count": null,
   "metadata": {
    "slideshow": {
     "slide_type": "skip"
    }
   },
   "outputs": [],
   "source": [
    "from IPython.display import IFrame\n",
    "link=\"http://localhost:8888/notebooks/2020_02_XX_pycon_rise_and_poll/2020_pycon_RISE_and_poll.ipynb\"\n",
    "#IFrame(link, width=800, height=300) #google, facebook, twitter"
   ]
  },
  {
   "cell_type": "markdown",
   "metadata": {
    "slideshow": {
     "slide_type": "notes"
    }
   },
   "source": [
    "Relato: Un aprendizaje interesante que pueden llevarse hoy, es que existen sitios que no permiten ser embebidos en un iframe. Por ejemplo, si tratamos de hacer un iframe de google, nos da el siguiente error. ¿Porqué? Porque XYZ.\n",
    "\n",
    "Sin embargo, podemos usar un acortador de dirección para evitar ese problema. Por ejemplo, el mismo acordador de dirección de google nos permite bypasear su propia seguridad. Hermoso."
   ]
  },
  {
   "cell_type": "markdown",
   "metadata": {
    "slideshow": {
     "slide_type": "slide"
    }
   },
   "source": [
    "##### 1.1 Problema: Realizar encuestas interactivas.\n",
    "\n",
    "\n",
    "**Solucion nivel 1:**\n",
    "\n",
    "KISS: Keep IT Simple, Stupid."
   ]
  },
  {
   "cell_type": "markdown",
   "metadata": {
    "slideshow": {
     "slide_type": "fragment"
    }
   },
   "source": [
    "Podemos usar IFrame con los servicios de alguna compañía especializada en encuestas interactivas:\n",
    "* Polleverywhere\n",
    "* Mentimeter\n",
    "* Muchos, muchos otros..."
   ]
  },
  {
   "cell_type": "code",
   "execution_count": null,
   "metadata": {},
   "outputs": [],
   "source": []
  },
  {
   "cell_type": "markdown",
   "metadata": {
    "slideshow": {
     "slide_type": "notes"
    }
   },
   "source": [
    "Relato: Solución nivel 1. Meme de “cerebro”. Hay un principio elemental en programación: KISS. Keep it Simple, Stupid. No hay para que reinventar la rueda cuando podemos aprovechar lo que otras personas ya han hecho.\n",
    "\n",
    "Relato: Hay varias empresas que proporcionan servicios para realizar encuestas en vivo, que funciona a través de páginas web. Algunas de las empresas que pueden revisar para esto son: Mentimeter, Survey, Polleverywhere, por ejemplo. Spoiler Alert: Son todas bastante parecidas."
   ]
  },
  {
   "cell_type": "markdown",
   "metadata": {
    "slideshow": {
     "slide_type": "slide"
    }
   },
   "source": [
    "##### 1.2 Solución nivel 1: Encuesta\n",
    "\n",
    "Probemos este método con una encuesta simple:"
   ]
  },
  {
   "cell_type": "code",
   "execution_count": 28,
   "metadata": {},
   "outputs": [
    {
     "data": {
      "text/html": [
       "\n",
       "        <iframe\n",
       "            width=\"800\"\n",
       "            height=\"600\"\n",
       "            src=\"https://pollev.com/sebastianflo711\"\n",
       "            frameborder=\"0\"\n",
       "            allowfullscreen\n",
       "        ></iframe>\n",
       "        "
      ],
      "text/plain": [
       "<IPython.lib.display.IFrame at 0x111cc7790>"
      ]
     },
     "execution_count": 28,
     "metadata": {},
     "output_type": "execute_result"
    }
   ],
   "source": [
    "from IPython.display import IFrame\n",
    "IFrame(\"https://pollev.com/sebastianflo711\", width=800, height=600)"
   ]
  },
  {
   "cell_type": "code",
   "execution_count": null,
   "metadata": {},
   "outputs": [],
   "source": []
  },
  {
   "cell_type": "markdown",
   "metadata": {
    "slideshow": {
     "slide_type": "notes"
    }
   },
   "source": [
    "Relato: Hagamos un primer experimento. Yo ya cree una encuesta que deberán responder. ¿Listos? En sus celulares, busquen la página web que se encuentra en pantalla y voten. \n",
    "Mostrar con un iframe y leer."
   ]
  },
  {
   "cell_type": "markdown",
   "metadata": {
    "slideshow": {
     "slide_type": "slide"
    }
   },
   "source": [
    "##### 1.3 Solución nivel 1: \n",
    "\n",
    "Link encuesta: https://pollev.com/sebastianflo711\n",
    "\n",
    "**¿Qué debe cumplir un sitio de encuestas interactivas?**\n",
    "\n",
    "* Encuesta acccesible por url pública, incrustable por iframe.\n",
    "* Gráfico dinámico accesible por url pública, incrustable por iframe."
   ]
  },
  {
   "cell_type": "markdown",
   "metadata": {
    "slideshow": {
     "slide_type": "notes"
    }
   },
   "source": [
    "Relato: ¿Qué necesitamos de esta encuesta? Que tenga las siguientes características:\n",
    "Encuesta accesible con una url pública, para poder compartir el enlace durante la presentación.\n",
    "Gráficos disponibles a partir de una url pública o privada, para incrustarla el grafico en la ppt."
   ]
  },
  {
   "cell_type": "markdown",
   "metadata": {
    "slideshow": {
     "slide_type": "slide"
    }
   },
   "source": [
    "##### 1.3 Solución nivel 1: https://pollev.com/sebastianflo711\n",
    "\n",
    "Veamos los resultados de la encuesta anterior."
   ]
  },
  {
   "cell_type": "code",
   "execution_count": 29,
   "metadata": {
    "slideshow": {
     "slide_type": "-"
    }
   },
   "outputs": [
    {
     "data": {
      "text/html": [
       "\n",
       "        <iframe\n",
       "            width=\"800\"\n",
       "            height=\"600\"\n",
       "            src=\"https://www.polleverywhere.com/multiple_choice_polls/7Xwy472JbCrk3fITm12XM\"\n",
       "            frameborder=\"0\"\n",
       "            allowfullscreen\n",
       "        ></iframe>\n",
       "        "
      ],
      "text/plain": [
       "<IPython.lib.display.IFrame at 0x111c27090>"
      ]
     },
     "execution_count": 29,
     "metadata": {},
     "output_type": "execute_result"
    }
   ],
   "source": [
    "from IPython.display import IFrame\n",
    "IFrame(\"https://www.polleverywhere.com/multiple_choice_polls/7Xwy472JbCrk3fITm12XM\", width=800, height=600)\n",
    "# Observación: ¡requiere estar autentificado como dueño de la encuesta!"
   ]
  },
  {
   "cell_type": "code",
   "execution_count": null,
   "metadata": {},
   "outputs": [],
   "source": []
  },
  {
   "cell_type": "markdown",
   "metadata": {
    "slideshow": {
     "slide_type": "notes"
    }
   },
   "source": [
    "Relato: Mientras ustedes votan, podemos ya comenzar a ver los resultados. Ejecutar el iframe varias veces."
   ]
  },
  {
   "cell_type": "markdown",
   "metadata": {
    "slideshow": {
     "slide_type": "slide"
    }
   },
   "source": [
    "##### 1.4 Solución nivel 1:  Resumen\n",
    "¿Cómo se debe usar?"
   ]
  },
  {
   "cell_type": "markdown",
   "metadata": {
    "slideshow": {
     "slide_type": "fragment"
    }
   },
   "source": [
    "1. Seleccionar algún proveedor.\n",
    "1. Crear y configurar la encuesta previamente.\n",
    "1. Obtener el enlace de las preguntas, e incrustarla con un iframe.\n",
    "1. Obtener el gráfico de las respuestas, e incrustarla con un iframe.\n",
    "1. Probar que funcione correctamente. Borrar respuestas de prueba. "
   ]
  },
  {
   "cell_type": "markdown",
   "metadata": {
    "slideshow": {
     "slide_type": "notes"
    }
   },
   "source": [
    "Relato: En general, la versión “gratis” permite hacer preguntas y ver los resultados, pero requiere haberla preparado antes para tener el enlace, y no permite descargar los resultados para explorarlos más “cientificamente”. Es necesario haber creado la presentación de antemano y es más difícil cambiarla a último momento. Dependiendo de la empresa, funciona más o menos fácil y “auto-refresh”."
   ]
  },
  {
   "cell_type": "markdown",
   "metadata": {
    "slideshow": {
     "slide_type": "slide"
    }
   },
   "source": [
    "##### 1.5 Pausa\n",
    "¿Que viene antes, el huevo o la gallina?"
   ]
  },
  {
   "cell_type": "code",
   "execution_count": 30,
   "metadata": {},
   "outputs": [
    {
     "data": {
      "text/plain": [
       "['🐔', '🥚']"
      ]
     },
     "execution_count": 30,
     "metadata": {},
     "output_type": "execute_result"
    }
   ],
   "source": [
    "# Solución al problema\n",
    "# python3 permite usar unicode\n",
    "sorted(['\\N{EGG}', '\\N{CHICKEN}'])"
   ]
  },
  {
   "cell_type": "code",
   "execution_count": null,
   "metadata": {},
   "outputs": [],
   "source": []
  },
  {
   "cell_type": "markdown",
   "metadata": {
    "slideshow": {
     "slide_type": "slide"
    }
   },
   "source": [
    "##### 2.1 Problema: Realizar encuestas interactivas.\n",
    "\n",
    "**Solución Nivel 2**\n",
    "\n",
    "Una segunda opción que requiere un poco más de configuración pero entrega más control, es usar un servicio de encuestas tradicional:"
   ]
  },
  {
   "cell_type": "markdown",
   "metadata": {
    "slideshow": {
     "slide_type": "fragment"
    }
   },
   "source": [
    "* Microsoft Forms\n",
    "* Google Forms\n",
    "* Survey Monkey\n",
    "* Typeform\n",
    "* Muchas otras..."
   ]
  },
  {
   "cell_type": "markdown",
   "metadata": {
    "slideshow": {
     "slide_type": "notes"
    }
   },
   "source": [
    "Relato: El siguiente nivel es enviar una encuesta de un servicio más estándar, como Google Survey, Microsoft Forms, Survey Monkey o Typeform."
   ]
  },
  {
   "cell_type": "markdown",
   "metadata": {
    "slideshow": {
     "slide_type": "slide"
    }
   },
   "source": [
    "##### 2.2 Solución Nivel 2: Encuesta + Datos\n",
    "\n",
    "Probemos este método con otra encuesta simple:"
   ]
  },
  {
   "cell_type": "code",
   "execution_count": 31,
   "metadata": {},
   "outputs": [
    {
     "data": {
      "text/html": [
       "\n",
       "        <iframe\n",
       "            width=\"800\"\n",
       "            height=\"600\"\n",
       "            src=\"https://bit.ly/2uYDdhm\"\n",
       "            frameborder=\"0\"\n",
       "            allowfullscreen\n",
       "        ></iframe>\n",
       "        "
      ],
      "text/plain": [
       "<IPython.lib.display.IFrame at 0x111c2a8d0>"
      ]
     },
     "execution_count": 31,
     "metadata": {},
     "output_type": "execute_result"
    }
   ],
   "source": [
    "long_url = \"https://forms.office.com/Pages/ResponsePage.aspx?id=zu7OdUTRPU-clJ5rQCX8_4qs5cX1Y7dFhVdiCz848sBUNFU3UzU3OTNHVDhWNURSMEs2WDBUMDdCTi4u\"\n",
    "short_url = \"https://bit.ly/2uYDdhm\"\n",
    "iframe_options = {\"width\":800, \"height\":600}\n",
    "IFrame(short_url, **iframe_options)"
   ]
  },
  {
   "cell_type": "markdown",
   "metadata": {
    "slideshow": {
     "slide_type": "notes"
    }
   },
   "source": [
    "Notas: Por ejemplo, accedan a la encuesta que se encuentra en la siguiente dirección: "
   ]
  },
  {
   "cell_type": "markdown",
   "metadata": {
    "slideshow": {
     "slide_type": "slide"
    }
   },
   "source": [
    "##### 2.3 Solución Nivel 2:  \n",
    "\n",
    "Link encuesta: \n",
    "# https://bit.ly/2uYDdhm\n",
    "\n",
    "<br/>\n",
    "¿Qué debe cumplir un sitio de encuestas interactivas?\n",
    "\n",
    "* Encuesta accesible al público mediante un enlace abierto. Puede que no sea incrustable con un iframe.\n",
    "* Opcionalmente, que cuente con gráficos en línea.\n",
    "* Datos disponibles y puedan descargarse.\n",
    "* Crear una función (en Python) para descargar e interpretar los datos.\n",
    "* Probar que la encuesta funcione. Borrar las respuestas de prueba."
   ]
  },
  {
   "cell_type": "markdown",
   "metadata": {
    "slideshow": {
     "slide_type": "notes"
    }
   },
   "source": [
    "Notas: ¿Que fue lo que hicimos acá? Veamos un poco más de detalle. La página web que accesaron tuvo que ser creada antes, y el link para compartir incrustado en la presentación. La tabla con los resultados se interpreta con alguna función apropiada, por ejemplo, en este caso, usé pandas y matplotlib porque porqué no."
   ]
  },
  {
   "cell_type": "markdown",
   "metadata": {
    "slideshow": {
     "slide_type": "slide"
    }
   },
   "source": [
    "##### 2.4 Solución Nivel 2: Respuestas"
   ]
  },
  {
   "cell_type": "code",
   "execution_count": 32,
   "metadata": {},
   "outputs": [
    {
     "data": {
      "text/html": [
       "\n",
       "        <iframe\n",
       "            width=\"800\"\n",
       "            height=\"600\"\n",
       "            src=\"https://bit.ly/37We2dE\"\n",
       "            frameborder=\"0\"\n",
       "            allowfullscreen\n",
       "        ></iframe>\n",
       "        "
      ],
      "text/plain": [
       "<IPython.lib.display.IFrame at 0x1120d5e90>"
      ]
     },
     "execution_count": 32,
     "metadata": {},
     "output_type": "execute_result"
    }
   ],
   "source": [
    "long_url = \"https://forms.office.com/Pages/AnalysisPage.aspx?id=zu7OdUTRPU-clJ5rQCX8_4qs5cX1Y7dFhVdiCz848sBUNFU3UzU3OTNHVDhWNURSMEs2WDBUMDdCTi4u&AnalyzerToken=ND54U8Erls95gHxjbyWus4LzH6FPyZ35\"\n",
    "short_url = \"https://bit.ly/37We2dE\"\n",
    "iframe_options = {\"width\":800, \"height\":600}\n",
    "IFrame(short_url, **iframe_options)"
   ]
  },
  {
   "cell_type": "code",
   "execution_count": null,
   "metadata": {},
   "outputs": [],
   "source": [
    "df.head()"
   ]
  },
  {
   "cell_type": "markdown",
   "metadata": {
    "slideshow": {
     "slide_type": "slide"
    }
   },
   "source": [
    "##### 2.4 Solución Nivel 2: Respuestas  (versión 2)\n",
    "\n",
    "* Descargamos la planilla de datos con el resultado desde algún [enlace](https://uplanner-my.sharepoint.com/:x:/r/personal/sebastian_flores_u-planner_com/_layouts/15/Doc.aspx?sourcedoc=%7B7D9BF52E-2931-4702-86ED-00792E617ECF%7D&file=2020_02_09_encuesta2_pycon.xlsx&action=default&mobileredirect=true) "
   ]
  },
  {
   "cell_type": "code",
   "execution_count": 33,
   "metadata": {
    "slideshow": {
     "slide_type": "fragment"
    }
   },
   "outputs": [
    {
     "data": {
      "text/plain": [
       "['data/2020_02_08_encuesta2_pycon.xlsx']"
      ]
     },
     "execution_count": 33,
     "metadata": {},
     "output_type": "execute_result"
    }
   ],
   "source": [
    "# Alternative to ls data/*.xlsx\n",
    "import glob\n",
    "glob.glob(\"data/*.xlsx\")"
   ]
  },
  {
   "cell_type": "code",
   "execution_count": 34,
   "metadata": {},
   "outputs": [
    {
     "data": {
      "text/plain": [
       "odict_keys(['Hoja1', '_56F9DC9755BA473782653E2940F9', 'Form1'])"
      ]
     },
     "execution_count": 34,
     "metadata": {},
     "output_type": "execute_result"
    }
   ],
   "source": [
    "import pandas as pd\n",
    "df_dict = pd.read_excel(\"data/2020_02_08_encuesta2_pycon.xlsx\", sheet_name=None)\n",
    "df_dict.keys()"
   ]
  },
  {
   "cell_type": "code",
   "execution_count": 35,
   "metadata": {},
   "outputs": [
    {
     "name": "stdout",
     "output_type": "stream",
     "text": [
      "Which one is the best pet?\n"
     ]
    },
    {
     "data": {
      "text/html": [
       "<div>\n",
       "<style scoped>\n",
       "    .dataframe tbody tr th:only-of-type {\n",
       "        vertical-align: middle;\n",
       "    }\n",
       "\n",
       "    .dataframe tbody tr th {\n",
       "        vertical-align: top;\n",
       "    }\n",
       "\n",
       "    .dataframe thead th {\n",
       "        text-align: right;\n",
       "    }\n",
       "</style>\n",
       "<table border=\"1\" class=\"dataframe\">\n",
       "  <thead>\n",
       "    <tr style=\"text-align: right;\">\n",
       "      <th></th>\n",
       "      <th>ID</th>\n",
       "      <th>Start time</th>\n",
       "      <th>Completion time</th>\n",
       "      <th>Email</th>\n",
       "      <th>Name</th>\n",
       "      <th>Which one is the best pet?</th>\n",
       "    </tr>\n",
       "  </thead>\n",
       "  <tbody>\n",
       "    <tr>\n",
       "      <td>0</td>\n",
       "      <td>6</td>\n",
       "      <td>2020-02-03 13:56:04</td>\n",
       "      <td>2020-02-03 13:56:11</td>\n",
       "      <td>anonymous</td>\n",
       "      <td>NaN</td>\n",
       "      <td>Otra!</td>\n",
       "    </tr>\n",
       "    <tr>\n",
       "      <td>1</td>\n",
       "      <td>7</td>\n",
       "      <td>2020-02-03 13:56:23</td>\n",
       "      <td>2020-02-03 13:56:36</td>\n",
       "      <td>anonymous</td>\n",
       "      <td>NaN</td>\n",
       "      <td>Python</td>\n",
       "    </tr>\n",
       "    <tr>\n",
       "      <td>2</td>\n",
       "      <td>8</td>\n",
       "      <td>2020-02-03 13:56:38</td>\n",
       "      <td>2020-02-03 13:56:41</td>\n",
       "      <td>anonymous</td>\n",
       "      <td>NaN</td>\n",
       "      <td>Dog</td>\n",
       "    </tr>\n",
       "    <tr>\n",
       "      <td>3</td>\n",
       "      <td>9</td>\n",
       "      <td>2020-02-03 14:28:15</td>\n",
       "      <td>2020-02-03 14:28:27</td>\n",
       "      <td>anonymous</td>\n",
       "      <td>NaN</td>\n",
       "      <td>Python</td>\n",
       "    </tr>\n",
       "  </tbody>\n",
       "</table>\n",
       "</div>"
      ],
      "text/plain": [
       "   ID          Start time     Completion time      Email  Name  \\\n",
       "0   6 2020-02-03 13:56:04 2020-02-03 13:56:11  anonymous   NaN   \n",
       "1   7 2020-02-03 13:56:23 2020-02-03 13:56:36  anonymous   NaN   \n",
       "2   8 2020-02-03 13:56:38 2020-02-03 13:56:41  anonymous   NaN   \n",
       "3   9 2020-02-03 14:28:15 2020-02-03 14:28:27  anonymous   NaN   \n",
       "\n",
       "  Which one is the best pet?  \n",
       "0                      Otra!  \n",
       "1                     Python  \n",
       "2                        Dog  \n",
       "3                     Python  "
      ]
     },
     "execution_count": 35,
     "metadata": {},
     "output_type": "execute_result"
    }
   ],
   "source": [
    "df = df_dict[\"Form1\"]\n",
    "question = df.columns[-1]\n",
    "print(question)\n",
    "df.head()"
   ]
  },
  {
   "cell_type": "markdown",
   "metadata": {
    "slideshow": {
     "slide_type": "notes"
    }
   },
   "source": [
    " La tabla con los resultados se interpreta con alguna función apropiada, por ejemplo, en este caso, usé pandas y matplotlib porque porqué no."
   ]
  },
  {
   "cell_type": "markdown",
   "metadata": {
    "slideshow": {
     "slide_type": "slide"
    }
   },
   "source": [
    "##### 2.5 Solución Nivel 2: Respuestas"
   ]
  },
  {
   "cell_type": "code",
   "execution_count": 36,
   "metadata": {},
   "outputs": [
    {
     "data": {
      "text/plain": [
       "Python    2\n",
       "Otra!     1\n",
       "Dog       1\n",
       "Name: Which one is the best pet?, dtype: int64"
      ]
     },
     "execution_count": 36,
     "metadata": {},
     "output_type": "execute_result"
    }
   ],
   "source": [
    "question_df = df[question]\n",
    "answer_counts = question_df.value_counts()\n",
    "answer_counts"
   ]
  },
  {
   "cell_type": "code",
   "execution_count": null,
   "metadata": {},
   "outputs": [],
   "source": []
  },
  {
   "cell_type": "code",
   "execution_count": 39,
   "metadata": {},
   "outputs": [
    {
     "data": {
      "image/png": "[encoded data removed]",
      "text/plain": [
       "<Figure size 1152x432 with 1 Axes>"
      ]
     },
     "metadata": {
      "needs_background": "light"
     },
     "output_type": "display_data"
    }
   ],
   "source": [
    "from matplotlib import pyplot as plt\n",
    "answer_counts.plot.barh(figsize=(16,6))\n",
    "plt.show()"
   ]
  },
  {
   "cell_type": "code",
   "execution_count": null,
   "metadata": {},
   "outputs": [],
   "source": []
  },
  {
   "cell_type": "markdown",
   "metadata": {
    "slideshow": {
     "slide_type": "slide"
    }
   },
   "source": [
    "##### 2.6 Solución Nivel 2: Respuestas"
   ]
  },
  {
   "cell_type": "code",
   "execution_count": 40,
   "metadata": {},
   "outputs": [
    {
     "data": {
      "image/png": "[encoded data removed]",
      "text/plain": [
       "<Figure size 1152x432 with 1 Axes>"
      ]
     },
     "metadata": {
      "needs_background": "light"
     },
     "output_type": "display_data"
    }
   ],
   "source": [
    "from matplotlib import pyplot as plt\n",
    "answer_counts.plot.barh(figsize=(16,6), fontsize=16)\n",
    "plt.suptitle(question, fontsize=16)\n",
    "plt.xlabel(\"Número de respuestas\", fontsize=16)\n",
    "plt.ylabel(\"\");"
   ]
  },
  {
   "cell_type": "markdown",
   "metadata": {
    "slideshow": {
     "slide_type": "slide"
    }
   },
   "source": [
    "##### 2.7 Solución nivel 2: Resumen\n",
    "\n",
    "1. Elegir algún proveedor.\n",
    "1. Crear la encuesta.\n",
    "1. Obtener la url pública de las preguntas, e incrustarla en un iframe.\n",
    "1. Obtener la url de los datos de las respuestas.\n",
    "1. Usar una api o descargar los datos.\n",
    "1. Graficar desde python para interpretar los datos."
   ]
  },
  {
   "cell_type": "markdown",
   "metadata": {
    "slideshow": {
     "slide_type": "notes"
    }
   },
   "source": [
    "Leer."
   ]
  },
  {
   "cell_type": "markdown",
   "metadata": {
    "slideshow": {
     "slide_type": "slide"
    }
   },
   "source": [
    "##### 2.1 Problema: Realizar encuestas interactivas.\n",
    "\n",
    "**Solución Nivel 3**\n",
    "\n",
    "La solución más compleja es por supuesto hacer el sistema completo:"
   ]
  },
  {
   "cell_type": "markdown",
   "metadata": {
    "slideshow": {
     "slide_type": "fragment"
    }
   },
   "source": [
    "* **Base de datos**: donde almacenar la encuesta y las respuestas. \n",
    "* **Frontend**: para realizar la encuesta.\n",
    "* **Backend**: interactuar con la base de datos. "
   ]
  },
  {
   "cell_type": "markdown",
   "metadata": {
    "slideshow": {
     "slide_type": "fragment"
    }
   },
   "source": [
    "En este caso: mysql, flask, flask-mysql y pandas, con algo de html y css, y una librería de javascript para graficar."
   ]
  },
  {
   "cell_type": "markdown",
   "metadata": {
    "slideshow": {
     "slide_type": "notes"
    }
   },
   "source": [
    "Notas: Por supuesto, la versión que nos da más control de todo es hacerlo a lo macgiver. Par los millenials de la sala, macgiver es un programa de televisión donde el protagonista podía hacer una bomba con un moco. En fin, la idea es hacer todo desde cero: la página web con su base de datos y gráficos."
   ]
  },
  {
   "cell_type": "markdown",
   "metadata": {
    "slideshow": {
     "slide_type": "slide"
    }
   },
   "source": [
    "##### Solución Nivel 3\n",
    "\n",
    "¿Porqué alguien voluntariamente se sometería a este tormento?"
   ]
  },
  {
   "cell_type": "markdown",
   "metadata": {
    "slideshow": {
     "slide_type": "fragment"
    }
   },
   "source": [
    "**Filosofía xkcd**: \n",
    "\n",
    "¿Porqué hacer algo simple cuando podrías hacer algo extremadamente complejo *de la manera más simple posible*, aprendiendo mucho en el camino?"
   ]
  },
  {
   "cell_type": "markdown",
   "metadata": {
    "slideshow": {
     "slide_type": "fragment"
    }
   },
   "source": [
    "<img src=\"images/automation.png\"  width=\"600\">"
   ]
  },
  {
   "cell_type": "markdown",
   "metadata": {
    "slideshow": {
     "slide_type": "slide"
    }
   },
   "source": [
    "##### Solución Nivel 3\n",
    "\n",
    "¿xkcd en python?"
   ]
  },
  {
   "cell_type": "code",
   "execution_count": 41,
   "metadata": {
    "slideshow": {
     "slide_type": "-"
    }
   },
   "outputs": [],
   "source": [
    "import antigravity"
   ]
  },
  {
   "cell_type": "markdown",
   "metadata": {
    "slideshow": {
     "slide_type": "slide"
    }
   },
   "source": [
    "##### Solución Nivel 3"
   ]
  },
  {
   "cell_type": "code",
   "execution_count": 45,
   "metadata": {
    "slideshow": {
     "slide_type": "-"
    }
   },
   "outputs": [
    {
     "data": {
      "text/html": [
       "\n",
       "        <iframe\n",
       "            width=\"1000\"\n",
       "            height=\"1000\"\n",
       "            src=\"http://localhost:5000/\"\n",
       "            frameborder=\"0\"\n",
       "            allowfullscreen\n",
       "        ></iframe>\n",
       "        "
      ],
      "text/plain": [
       "<IPython.lib.display.IFrame at 0x111296050>"
      ]
     },
     "execution_count": 45,
     "metadata": {},
     "output_type": "execute_result"
    }
   ],
   "source": [
    "from IPython.display import IFrame\n",
    "IFrame(\"http://localhost:5000/\", width=1000, height=1000)"
   ]
  },
  {
   "cell_type": "code",
   "execution_count": null,
   "metadata": {},
   "outputs": [],
   "source": []
  },
  {
   "cell_type": "code",
   "execution_count": null,
   "metadata": {},
   "outputs": [],
   "source": []
  },
  {
   "cell_type": "code",
   "execution_count": null,
   "metadata": {},
   "outputs": [],
   "source": []
  },
  {
   "cell_type": "code",
   "execution_count": null,
   "metadata": {},
   "outputs": [],
   "source": []
  },
  {
   "cell_type": "markdown",
   "metadata": {
    "slideshow": {
     "slide_type": "notes"
    }
   },
   "source": [
    "Notas: Sí, es bastante trabajo. Este es un diagrama reducido de cómo funcionaría."
   ]
  },
  {
   "cell_type": "markdown",
   "metadata": {
    "slideshow": {
     "slide_type": "slide"
    }
   },
   "source": [
    "##### Solución Nivel 3\n",
    "\n",
    "El código de polite se encuentra en https://github.com/sebastiandres/surveys_with_flask_and_xkcd_charts.\n"
   ]
  },
  {
   "cell_type": "markdown",
   "metadata": {
    "slideshow": {
     "slide_type": "fragment"
    }
   },
   "source": [
    "Hace uso de muchos recursos publicamente disponibles (además de mysql, python+librerías):\n",
    "* Font xkcd.ttf de ipython, https://github.com/ipython/xkcd-font\n",
    "* Librería xkcd_chart en javascript: https://timqian.com/chart.xkcd/\n",
    "* Una cantidad vergonzosamente grande de búsquedas en internet y stackoverflow. "
   ]
  },
  {
   "cell_type": "markdown",
   "metadata": {
    "slideshow": {
     "slide_type": "notes"
    }
   },
   "source": [
    "Notas: Pero tiene la ventaja que es posible dejarlo tal y cual lo queremos. Por ejemplo, si quiero cambiar la pregunta y sus opciones durante la presentación. Para lograr esto le di la funcionalidad de que genere automáticamente una encuesta a partir de un texto con formato markdown.\n"
   ]
  },
  {
   "cell_type": "markdown",
   "metadata": {
    "slideshow": {
     "slide_type": "slide"
    }
   },
   "source": [
    "##### Solución Nivel 3\n",
    "\n",
    "Una de las cosas que más me llamó la atención fue cómo hacer una función que pudiese transformar un texto markdown en la serie de preguntas y opciones de respuesta. Finalmente la implementación fue así:"
   ]
  },
  {
   "cell_type": "code",
   "execution_count": null,
   "metadata": {
    "slideshow": {
     "slide_type": "fragment"
    }
   },
   "outputs": [],
   "source": [
    "def markdown_parser(my_text):\n",
    "    if my_text.count(\":\")!=1:\n",
    "        print(\"Cannot parse, there's an error in the format\")\n",
    "        return {\"is_format_ok\":False, \"markdown_str\":my_text}\n",
    "    single_option = 0\n",
    "    multiple_option = 0\n",
    "    if (\"* \" in my_text) or (\"\\n* \" in my_text):\n",
    "        single_option = 1\n",
    "        split_char = \"*\"\n",
    "    if (\"^ \" in my_text) or (\"\\nv \" in my_text):\n",
    "        multiple_option = 1\n",
    "        split_char = \"^\"\n",
    "    # If both False or both True, simultaneoulsy, there's an error\n",
    "    if single_option==multiple_option:\n",
    "        print(\"Cannot parse, there's an error in the format\")\n",
    "        return {\"is_format_ok\":False, \"markdown_str\":my_text}\n",
    "    question_str, answer_str = my_text.split(\":\")\n",
    "    question = question_str.strip()\n",
    "    answer_list = [_.strip() for _ in answer_str.split(split_char)[1:6]] # Skip the empty string, reach to the fifth existing one\n",
    "    answer_list = answer_list + [\"\" for _ in range(5-len(answer_list))] # Fill with empty ones if needed\n",
    "    question_type = single_option*\"radio\"+multiple_option*\"checkbox\" # This is the html convention\n",
    "    # Create the dict\n",
    "    md_dict = {}\n",
    "    md_dict[\"is_format_ok\"] = True\n",
    "    md_dict[\"markdown_str\"] = my_text\n",
    "    md_dict[\"type_str\"] = question_type\n",
    "    md_dict[\"question_str\"] = question\n",
    "    md_dict[\"option_1_str\"] = answer_list[0]\n",
    "    md_dict[\"option_2_str\"] = answer_list[1]\n",
    "    md_dict[\"option_3_str\"] = answer_list[2]\n",
    "    md_dict[\"option_4_str\"] = answer_list[3]\n",
    "    md_dict[\"option_5_str\"] = answer_list[4]\n",
    "    return md_dict"
   ]
  },
  {
   "cell_type": "markdown",
   "metadata": {},
   "source": [
    "##### Solución Nivel 3\n"
   ]
  },
  {
   "cell_type": "code",
   "execution_count": null,
   "metadata": {},
   "outputs": [],
   "source": [
    "markdown_parser(\"Q: * A * B * C * D * E * F * G \")"
   ]
  },
  {
   "cell_type": "code",
   "execution_count": null,
   "metadata": {},
   "outputs": [],
   "source": [
    "markdown_parser(\"Q: ^ A ^ B ^ C ^ D ^ E ^ F ^ G \")"
   ]
  },
  {
   "cell_type": "markdown",
   "metadata": {
    "slideshow": {
     "slide_type": "notes"
    }
   },
   "source": [
    "Notas: Para eso, tuve que yo mismo definir ciertas convenciones. Una pregunta de alternativas únicas tipo button, se genera con opciones dadas con *. Una pregunta de alternativas multiples, se genera con alternativas encabezadas por ^."
   ]
  },
  {
   "cell_type": "markdown",
   "metadata": {
    "slideshow": {
     "slide_type": "slide"
    }
   },
   "source": [
    "##### Solución Nivel 3\n",
    "\n",
    "Hagamos la prueba:"
   ]
  },
  {
   "cell_type": "code",
   "execution_count": 46,
   "metadata": {},
   "outputs": [
    {
     "data": {
      "text/html": [
       "\n",
       "        <iframe\n",
       "            width=\"1000\"\n",
       "            height=\"1000\"\n",
       "            src=\"http://localhost:5000/survey\"\n",
       "            frameborder=\"0\"\n",
       "            allowfullscreen\n",
       "        ></iframe>\n",
       "        "
      ],
      "text/plain": [
       "<IPython.lib.display.IFrame at 0x111296090>"
      ]
     },
     "execution_count": 46,
     "metadata": {},
     "output_type": "execute_result"
    }
   ],
   "source": [
    "from IPython.display import IFrame\n",
    "IFrame(\"http://localhost:5000/survey\", width=1000, height=1000)"
   ]
  },
  {
   "cell_type": "markdown",
   "metadata": {
    "slideshow": {
     "slide_type": "notes"
    }
   },
   "source": [
    "Notas: Hagamos un último experimento. Respondan a la siguiente encuesta. \n",
    "Ejecutar funcionalidad que permite compilar y mostrar una pregunta.\n",
    "DEBE: Generar una url + decir tipo de pregunta + mostrar html compilado con preguntas a responder."
   ]
  },
  {
   "cell_type": "markdown",
   "metadata": {
    "slideshow": {
     "slide_type": "slide"
    }
   },
   "source": [
    "##### Solución Nivel 3\n",
    "\n",
    "Veamos los resultados:"
   ]
  },
  {
   "cell_type": "code",
   "execution_count": 47,
   "metadata": {},
   "outputs": [
    {
     "data": {
      "text/html": [
       "\n",
       "        <iframe\n",
       "            width=\"1000\"\n",
       "            height=\"1000\"\n",
       "            src=\"http://localhost:5000/bar_chart\"\n",
       "            frameborder=\"0\"\n",
       "            allowfullscreen\n",
       "        ></iframe>\n",
       "        "
      ],
      "text/plain": [
       "<IPython.lib.display.IFrame at 0x11128e410>"
      ]
     },
     "execution_count": 47,
     "metadata": {},
     "output_type": "execute_result"
    }
   ],
   "source": [
    "from IPython.display import IFrame\n",
    "IFrame(\"http://localhost:5000/bar_chart\", width=1000, height=1000)"
   ]
  },
  {
   "cell_type": "markdown",
   "metadata": {
    "slideshow": {
     "slide_type": "notes"
    }
   },
   "source": [
    "Notas: Y ahora veamos los resultados. \n",
    "Ejecutar función específica para ver los resultados de la encuesta. \n",
    "Los gráficos, en caso que se pregunten, están hechos con la librería xkcdcharts de javascript que emulan los clásicos dibujos del webcomic xkcd.\n"
   ]
  },
  {
   "cell_type": "markdown",
   "metadata": {
    "slideshow": {
     "slide_type": "slide"
    }
   },
   "source": [
    "##### Conclusión: Opción 1\n",
    "\n",
    "<table align=\"left\" style='font-size:120%' >\n",
    "  <tr>\n",
    "    <td><b></b></td>\n",
    "    <td><b>Ventaja</b></td>\n",
    "    <td><b>Desventaja</b></td>\n",
    "  <tr>\n",
    "    <td>Complejidad</td>\n",
    "    <td>Trivial</td>\n",
    "    <td>-</td>\n",
    "  </tr>\n",
    "  <tr>\n",
    "    <td>Precio</td>\n",
    "    <td>Versión limitada gratis</td>\n",
    "    <td>Versión pagada con más funcionalidades</td>\n",
    "  </tr>\n",
    "  <tr>\n",
    "    <td>Gráficos</td>\n",
    "    <td>Gráficos predefinidos</td>\n",
    "    <td>Gráficos predefinidos</td>\n",
    "  </tr>\n",
    "  <tr>\n",
    "    <td>Datos</td>\n",
    "    <td>-</td>\n",
    "    <td>Sin accceso a datos</td>\n",
    "  </tr>\n",
    "</table>"
   ]
  },
  {
   "cell_type": "markdown",
   "metadata": {
    "slideshow": {
     "slide_type": "notes"
    }
   },
   "source": [
    "Notas: Para concluir, veamos los pros y contras de estas 3 opciones. \n",
    "La opción “iframe de empresa de encuestas interactiva” tiene como ventaja el ser extremadamente sencillo, pero con limitaciones en la representación gráfica y en la descarga de resultados, y hay que preparar preguntas de antemano. Pero en relación al tiempo-calidad, es muy conveniente.\n",
    "Imagen: Nobody aint time 4 that"
   ]
  },
  {
   "cell_type": "markdown",
   "metadata": {
    "slideshow": {
     "slide_type": "slide"
    }
   },
   "source": [
    "##### Conclusión: Opción 2\n",
    "\n",
    "<table align=\"left\" style='font-size:120%'>\n",
    "  <tr>\n",
    "    <td><b></b></td>\n",
    "    <td><b>Ventaja</b></td>\n",
    "    <td><b>Desventaja</b></td>\n",
    "  <tr>\n",
    "    <td>Complejidad</td>\n",
    "    <td>Simple</td>\n",
    "    <td></td>\n",
    "  </tr>\n",
    "  <tr>\n",
    "    <td>Precio</td>\n",
    "    <td>Versión gratis es suficiente</td>\n",
    "    <td></td>\n",
    "  </tr>\n",
    "  <tr>\n",
    "    <td>Gráficos</td>\n",
    "    <td>Configurables</td>\n",
    "    <td>Requieren código</td>\n",
    "  </tr>\n",
    "  <tr>\n",
    "    <td>Datos</td>\n",
    "    <td>Con accceso a datos</td>\n",
    "    <td></td>\n",
    "  </tr>\n",
    "</table>"
   ]
  },
  {
   "cell_type": "markdown",
   "metadata": {
    "slideshow": {
     "slide_type": "notes"
    }
   },
   "source": [
    "Notas: La opción “encuesta tradicional” tiene la ventaja de permitir almacenar y revisar los resultados, pero requiere haber creado previamente funciones para descargar y graficar los resultados. Sigue siendo conveniente, pero a veces tiene un delay que hace que los resultados no sean “realmente en vivo”. Hay que preparar preguntas de antemano, y las funciones para graficar.\n",
    "(¿Alguna imagen donde el lag sea divertido?)\n"
   ]
  },
  {
   "cell_type": "markdown",
   "metadata": {
    "slideshow": {
     "slide_type": "slide"
    }
   },
   "source": [
    "##### Conclusión: Opción 3\n",
    "\n",
    "<table align=\"left\" style='font-size:120%'>\n",
    "  <tr>\n",
    "    <td><b></b></td>\n",
    "    <td><b>Ventaja</b></td>\n",
    "    <td><b>Desventaja</b></td>\n",
    "  <tr>\n",
    "    <td>Complejidad</td>\n",
    "    <td></td>\n",
    "    <td>Bastante complejo. Toma tiempo.</td>\n",
    "  </tr>\n",
    "  <tr>\n",
    "    <td>Precio</td>\n",
    "    <td>Hosting gratis es suficiente</td>\n",
    "    <td></td>\n",
    "  </tr>\n",
    "  <tr>\n",
    "    <td>Gráficos</td>\n",
    "    <td>Configurables</td>\n",
    "    <td>-</td>\n",
    "  </tr>\n",
    "  <tr>\n",
    "    <td>Datos</td>\n",
    "    <td>Con accceso completo a datos</td>\n",
    "    <td></td>\n",
    "  </tr>\n",
    "</table>"
   ]
  },
  {
   "cell_type": "markdown",
   "metadata": {
    "slideshow": {
     "slide_type": "notes"
    }
   },
   "source": [
    "Notas: La opción “lo haré yo mismo” (imagen de bender con su meme de blackjack y putas) tiene la ventaja de tener todo lo imaginable: control de los datos, control de los gráficos, incluso generación “dinámica” a partir de un markdown. Pero tiene la desventaja de haber necesitado crear todo eso. Pero es un aprendizaje altamente educativo, aunque costoso en tiempo. Si les interesa, pueden ver el repo en mi github: sebastiandres + little_survey_website."
   ]
  },
  {
   "cell_type": "markdown",
   "metadata": {
    "slideshow": {
     "slide_type": "slide"
    }
   },
   "source": [
    "##### Conclusión\n",
    "\n",
    "## ¿Preguntas?\n",
    "\n"
   ]
  },
  {
   "cell_type": "markdown",
   "metadata": {
    "slideshow": {
     "slide_type": "fragment"
    }
   },
   "source": [
    "Encuesta sobre la charla: \n",
    "<div style:'fontsize:150%'> https://bit.ly/2UzrYGU </div>"
   ]
  },
  {
   "cell_type": "markdown",
   "metadata": {
    "slideshow": {
     "slide_type": "notes"
    }
   },
   "source": [
    "Slide: ¿Preguntas?\n",
    "Notas: Y bueno, así llegamos a la sección final  de preguntas en la cual pasaremos 5 minutos incómodos en silencio, a menos que alguien quiera hacer alguna pregunta y observación. Mientras tanto, pueden responder a una última encuesta: \n",
    "PONER LINK PERO NO MOSTRAR CONTENIDO."
   ]
  }
 ],
 "metadata": {
  "celltoolbar": "Slideshow",
  "kernelspec": {
   "display_name": "Python 3",
   "language": "python",
   "name": "python3"
  },
  "language_info": {
   "codemirror_mode": {
    "name": "ipython",
    "version": 3
   },
   "file_extension": ".py",
   "mimetype": "text/x-python",
   "name": "python",
   "nbconvert_exporter": "python",
   "pygments_lexer": "ipython3",
   "version": "3.7.4"
  }
 },
 "nbformat": 4,
 "nbformat_minor": 4
}
